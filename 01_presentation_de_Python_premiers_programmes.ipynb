{
 "cells": [
  {
   "cell_type": "markdown",
   "metadata": {},
   "source": [
    "## PYTHON - présentation ![icone python](https://upload.wikimedia.org/wikipedia/commons/0/0a/Python.svg)\n",
    "Cette année, nous allons travailler avec un langage de programmation très utilisé dans le monde de l’informatique : Python.\n",
    "\n",
    "Ce langage est un logiciel libre créé en 1991, il est très utilisé aujourd'hui dans de nombreux ordinateurs et systèmes (PC, smartphones, objets connectés et/ou embarqués, ...) "
   ]
  },
  {
   "cell_type": "markdown",
   "metadata": {},
   "source": [
    "#  Comment travailler avec un notebook Jupyter (ce document) ?\n",
    "Un notebook jupyter est composé de cellules : \n",
    "- certaines sont des cellules de texte (comme celle-ci, par exemple)\n",
    "- d'autres sont des cellules de code, où on écrit du langage python : on les reconnaît car il est écrit *Entrée [ ]* devant.\n",
    "\n",
    "\n",
    "On peut écrire dans chacune d'elle. Pour valider une cellule (**indispensable pour exécuter un programme python**), on peut soit utiliser le raccourci clavier **Ctrl+Entrée**, soit cliquer sur le bouton **Exécuter**. On peut exécuter plusieurs fois la cellule, si on a corrigé ou modifié un programme par exemple.\n",
    "\n",
    "\n",
    "**remarque :** dans un programme python, on peut utiliser le symbole # devant une ligne : cette ligne devient alors un commentaire, elle n'est pas exécutée par Python. \n",
    "\n",
    "#Comment rendre le travail au professeur ?\n",
    "\n",
    "Une fois le travail terminé, vous allez le télécharger pour ensuite l'envoyer au professeur.\n",
    "Pour cela, allez dans Files, puis Download as, et choisir le format HTML(.html)\n",
    "\n",
    "Le document téléchargé sera lisible par un navigateur internet, mais ne pourra pas être modifié.\n",
    "\n",
    "Si vous préférez travailler hors ligne sur ce notebook, vous pouvez le télécharger au format Notebook (.ipynb). Pour pouvoir l'ouvrir et travailler dessus, il vous faudra installer un logiciel compatible avec les notebbok Jupyter (par exemple le logiciel libre et gratuit Spyder/Anaconda).\n",
    "\n",
    "**remarque importante :** si vous restez très longtemps sur le fichier en ligne, le \"noyau\" de Python risque d'être désactivé. On peut soit le relancer à l'aide de la flèche arrondie (à droite du bouton \"Exécuter\"), soit en cliquant sur le bouton \"Non fiable\" afin de rendre le fichier fiable.\n"
   ]
  },
  {
   "cell_type": "markdown",
   "metadata": {},
   "source": [
    "# I. Premiers pas : faisons des calculs.\n",
    "\n",
    "Voici un résumé des commandes usuelles :\n",
    "\n",
    "**somme** : + \n",
    "\n",
    "**différence** : -\n",
    "\n",
    "**produit** : *\n",
    "\n",
    "**quotient** : /\n",
    "\n",
    "**quotient de division euclidienne** : //\n",
    "\n",
    "**reste de division euclidienne** : %\n",
    "\n",
    "**puissance** : **\n",
    "\n",
    "Comme en mathématiques, on utilise les parenthèses pour donner des priorités à certains calculs.\n",
    "\n",
    "Dans les fenêtres suivantes, exécute les instructions afin de voir le résultat donné par Python :"
   ]
  },
  {
   "cell_type": "code",
   "execution_count": null,
   "metadata": {},
   "outputs": [],
   "source": [
    "2+2"
   ]
  },
  {
   "cell_type": "code",
   "execution_count": null,
   "metadata": {},
   "outputs": [],
   "source": [
    "6-3"
   ]
  },
  {
   "cell_type": "code",
   "execution_count": null,
   "metadata": {},
   "outputs": [],
   "source": [
    "12.34*2.4 # Attention : le séparateur décimal est le point, pas la virgule !"
   ]
  },
  {
   "cell_type": "code",
   "execution_count": null,
   "metadata": {},
   "outputs": [],
   "source": [
    "34/11"
   ]
  },
  {
   "cell_type": "code",
   "execution_count": null,
   "metadata": {},
   "outputs": [],
   "source": [
    "34//11"
   ]
  },
  {
   "cell_type": "code",
   "execution_count": null,
   "metadata": {},
   "outputs": [],
   "source": [
    "34%11"
   ]
  },
  {
   "cell_type": "code",
   "execution_count": null,
   "metadata": {},
   "outputs": [],
   "source": [
    "3**4"
   ]
  },
  {
   "cell_type": "code",
   "execution_count": null,
   "metadata": {},
   "outputs": [],
   "source": [
    "a=5\n",
    "b=13\n",
    "a*b"
   ]
  },
  {
   "cell_type": "markdown",
   "metadata": {},
   "source": [
    "## exercice 1.\n",
    "À l'aide de Python, Calcule le nombre ci-dessous : \n",
    "\n",
    "${29876}\\times{1515591}+\\displaystyle\\frac{{6^{145}}\\times{769}}{3^9}$"
   ]
  },
  {
   "cell_type": "code",
   "execution_count": null,
   "metadata": {},
   "outputs": [],
   "source": [
    "# exercice 1\n"
   ]
  },
  {
   "cell_type": "markdown",
   "metadata": {},
   "source": [
    "# II. premier programme.\n",
    "Exécute le programme suivant : "
   ]
  },
  {
   "cell_type": "code",
   "execution_count": null,
   "metadata": {},
   "outputs": [],
   "source": [
    "prenom=input(\"Quel est ton prénom ? \")\n",
    "print (\"Bonjour\",prenom,\"voici ton premier programme ;-)\")"
   ]
  },
  {
   "cell_type": "markdown",
   "metadata": {},
   "source": [
    "Dans ce programme, nous avons : \n",
    "\n",
    "- une variable : c'est une \"case mémoire\". Elle porte le nom de *prénom*\n",
    "- une instruction d'entrée : *input*, qui demande à l'utilisateur de rentrer du texte.\n",
    "- une instruction de sortie : *print*, qui permet d'afficher quelque chose.\n",
    "\n",
    "l'instruction \"**=**\" entre le nom de la variable *prenom* et l'instruction *input* permet d'affecter à la variable *prenom* la valeur que va entrer l'utilisateur.\n",
    "\n",
    "Regarde attentivement la dernière ligne du programme (instruction de sortie *print*) : le texte affiché entre guillemets est affiché tel quel. Par contre, la variable *prenom* n'est pas entre guillemet : Python n'affiche  pas prenom, mais sa valeur, c'est à dire ce que l'opérateur a entré précédemment.\n",
    "\n",
    "Exécute à nouveau le programme, en changeant de prénom."
   ]
  },
  {
   "cell_type": "markdown",
   "metadata": {},
   "source": [
    "## exercice 2.\n",
    "En t'inspirant du programme précédent, écris un programme qui te demande dans quelle ville tu habites et qui te réponds que cette ville (il doit écrire son nom) est très jolie.\n",
    "Par exemple, lors de l'éxécution du programme, on doit obtenir ceci : \n",
    "\n",
    "*Dans quelle ville habites-tu ? Toulon*\n",
    "\n",
    "*Toulon est une très belle ville.*"
   ]
  },
  {
   "cell_type": "code",
   "execution_count": null,
   "metadata": {},
   "outputs": [],
   "source": [
    "# exercice 2 \n",
    "\n"
   ]
  },
  {
   "cell_type": "markdown",
   "metadata": {},
   "source": [
    "## exercice 3 : *\n",
    "Ecris un programme qui te demande ton année de naissance et qui t'écris ton âge (à un an près).\n",
    "\n",
    "**Attention :** L'instruction *input* enregistre toujours ce qu'écrit l'utilisateur en tant que chaîne de caractère.\n",
    "\n",
    "Si l'opérateur entre 1999, Python considère \"1999\" comme quatre caractères, mais pas comme un nombre.\n",
    "Si on veut que ce que l'utilisateur écrive soit considéré comme un nombre, il faut écrire *int(input(\"blablabla\")*"
   ]
  },
  {
   "cell_type": "code",
   "execution_count": null,
   "metadata": {},
   "outputs": [],
   "source": [
    "# exercice 3\n",
    "\n",
    "\n"
   ]
  }
 ],
 "metadata": {
  "kernelspec": {
   "display_name": "Python 3",
   "language": "python",
   "name": "python3"
  },
  "language_info": {
   "codemirror_mode": {
    "name": "ipython",
    "version": 3
   },
   "file_extension": ".py",
   "mimetype": "text/x-python",
   "name": "python",
   "nbconvert_exporter": "python",
   "pygments_lexer": "ipython3",
   "version": "3.7.3"
  }
 },
 "nbformat": 4,
 "nbformat_minor": 2
}
