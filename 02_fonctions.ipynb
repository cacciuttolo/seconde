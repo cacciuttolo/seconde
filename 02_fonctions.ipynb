{
 "cells": [
  {
   "cell_type": "markdown",
   "metadata": {},
   "source": [
    "## PYTHON RAPPELS : FONCTIONS ![icone python](https://upload.wikimedia.org/wikipedia/commons/0/0a/Python.svg)"
   ]
  },
  {
   "cell_type": "markdown",
   "metadata": {},
   "source": [
    "#  Comment travailler avec un notebook Jupiter (ce document) ?\n",
    "Un notebook jupyter est composé de cellules : \n",
    "- certaines sont des cellules de texte (comme celle-ci, par exemple)\n",
    "- d'autres sont des cellules de code, où on écrit du langage python : on les reconnaît car il est écrit *Entrée [ ]* devant.\n",
    "\n",
    "\n",
    "On peut écrire dans chacune d'elle. Pour valider une cellule (**indispensable pour exécuter un programme python**), on peut soit utiliser le raccourci clavier Ctrl+Entrée, soit cliquer sur le bouton Exécuter. On peut exécuter plusieurs fois la cellule, si on a corrigé ou modifié un programme par exemple.\n",
    "\n",
    "\n",
    "**remarque :** dans un programme python, on peut utiliser le symbole # devant une ligne : cette ligne devient alors un commentaire, elle n'est pas exécutée par Python. \n",
    "\n",
    "\n",
    "Une fois le travail terminé, vous allez le télécharger pour ensuite l'envoyer au professeur.\n",
    "Pour cela, allez dans Fichier, Télécharger au format, puis HTML (.html)\n",
    "\n",
    "**Si vous n'arrivez pas à télécharger le fichier au format html** (c'est parfois le cas avec une tablette ou un smartphone), vous pouvez le télécharger au format notebook(ipynb).\n",
    "\n",
    "Le document téléchargé en html sera lisible par un navigateur internet, mais ne pourra pas être modifié. Le fichier au format ipynb est modifiable, mais à condition d'avoir le logiciel qui le permet (Jupyter).\n",
    "\n",
    "**remarque importante :** si vous restez très longtemps sur le fichier en ligne, le \"noyau\" de Python risque d'être désactivé. Il faut le relancer à l'aide de la flèche arrondie (à droite du bouton \"Exécuter\".\n"
   ]
  },
  {
   "cell_type": "markdown",
   "metadata": {},
   "source": [
    "#  Notion de fonction\n",
    "En python, on utilise souvent la notion de fonction qui permet de concevoir ses propres outils de calcul afin de ne pas répéter plusieurs fois les mêmes séquences de calcul.\n",
    "\n",
    "Par exemple, je veux calculer la moyenne de mes élèves qui ont fait quatre devoirs : les devoir n1 et n2 sont coefficient 1, et les devoirs n3 et n4 sont coefficent 3.\n",
    "Le calcul à faire est donc $m=\\frac{n1+n2+3\\times{n3}+3\\times{n4}}{1+1+3+3}=\\frac{n1+n2+3\\times{n3}+3\\times{n4}}{8}$\n",
    "On va donc construire la fonction appelée moyenne\n",
    "\n",
    "Une fonction est toujours composée des éléments suivant : \n",
    "- de l'instruction *def*  qui permet d'indiquer que l'on définit une fonction.\n",
    "- du nom de la fonction, ici *moyenne*\n",
    "- des variables utilisées entre parenthèses, ici *(n1,n2,n3,n4)*. S'il n'y a pas de variable, on écrit quand même les parenthèses vides *()*\n",
    "- de deux points après les parenthèses *:* indiquant que l'on va commencer à écrire la définition\n",
    "- du corps de la fonction qui est **indenté** : il est décalé horizontalement\n",
    "- de l'instruction *return* qui permet de \"renvoyer\" le résultat (parfois non obligatoire, mais pas cette année).\n",
    "\n",
    "Voici ce que cela donne dans notre cas : "
   ]
  },
  {
   "cell_type": "code",
   "execution_count": null,
   "metadata": {},
   "outputs": [],
   "source": [
    "def moyenne(n1,n2,n3,n4):        # ceci est donc la ligne qui définit la fonction, avec les paramètres\n",
    "    return ((n1+n2+3*n3+3*n4)/8) # voici ce que fait et retourne la fonction\n",
    "moyenne(11,13,9,11)              # on n'est plus dans la fonction (pas d'indentation), ici on exécute celle-ci.\n",
    "\n",
    "\n",
    "# Valide cette cellule pour exécuter le programme : \n",
    "# clique dans la cellule, puis\n",
    "# Ctrl+Entrée, ou clic sur \"Exécuter\""
   ]
  },
  {
   "cell_type": "markdown",
   "metadata": {},
   "source": [
    "Cécilia a eu 7, 11, 12 et 10. Quelle est sa moyenne ?"
   ]
  },
  {
   "cell_type": "code",
   "execution_count": null,
   "metadata": {},
   "outputs": [],
   "source": [
    "#Écris ce que tu veux calculer avec python ici :\n"
   ]
  },
  {
   "cell_type": "markdown",
   "metadata": {},
   "source": [
    "Bilal a lui raté son premier devoir : 3 puis il a eu 9;12;12. Quelle est sa moyenne ?"
   ]
  },
  {
   "cell_type": "code",
   "execution_count": null,
   "metadata": {},
   "outputs": [],
   "source": [
    "#Écris ce que tu veux calculer avec python ici :\n"
   ]
  },
  {
   "cell_type": "markdown",
   "metadata": {},
   "source": [
    "# exercice 1.\n",
    "Le prof d'histoire veut faire de même. Il a eu 5 notes coefficient 1.\n",
    "Écris la fonction MoyenneHistoire qui calcule la moyenne des notes n1, n2, n3, n4 et n5. "
   ]
  },
  {
   "cell_type": "code",
   "execution_count": null,
   "metadata": {},
   "outputs": [],
   "source": [
    "# exercice 1\n"
   ]
  },
  {
   "cell_type": "markdown",
   "metadata": {},
   "source": [
    "Quelle est la moyenne en histoire de Cécilia qui a eu 12;8;11;5;9 ?"
   ]
  },
  {
   "cell_type": "code",
   "execution_count": null,
   "metadata": {},
   "outputs": [],
   "source": [
    "#Écris ce que tu veux calculer avec python ici :\n"
   ]
  },
  {
   "cell_type": "markdown",
   "metadata": {},
   "source": [
    "Bilal a obtenu 11;14;15;3;5. A-t-il une meilleure moyenne en histoire qu'en math ?"
   ]
  },
  {
   "cell_type": "code",
   "execution_count": null,
   "metadata": {},
   "outputs": [],
   "source": [
    "#Écris ce que tu veux calculer avec python ici :\n"
   ]
  },
  {
   "cell_type": "markdown",
   "metadata": {},
   "source": [
    "Réponse : "
   ]
  },
  {
   "cell_type": "markdown",
   "metadata": {},
   "source": [
    "# exercice 2.\n",
    "On consière la fonction mathématique définie pour tout réel strictement positif $x$ par $f(x)=\\displaystyle\\frac{2x+1}{x}$. Construis la fonction Python appelée *fonc(x)* qui calcule l'image du nombre *x*. "
   ]
  },
  {
   "cell_type": "code",
   "execution_count": null,
   "metadata": {},
   "outputs": [],
   "source": [
    "# exercice 2 \n"
   ]
  },
  {
   "cell_type": "markdown",
   "metadata": {},
   "source": [
    "Quelle est l'image de 10 ?"
   ]
  },
  {
   "cell_type": "code",
   "execution_count": null,
   "metadata": {},
   "outputs": [],
   "source": [
    "#Écris ce que tu veux calculer avec python ici :\n"
   ]
  },
  {
   "cell_type": "markdown",
   "metadata": {},
   "source": [
    "Quelle est l'image de -1 ?"
   ]
  },
  {
   "cell_type": "code",
   "execution_count": null,
   "metadata": {},
   "outputs": [],
   "source": [
    "#Écris ce que tu veux calculer avec python ici :\n"
   ]
  }
 ],
 "metadata": {
  "kernelspec": {
   "display_name": "Python 3",
   "language": "python",
   "name": "python3"
  },
  "language_info": {
   "codemirror_mode": {
    "name": "ipython",
    "version": 3
   },
   "file_extension": ".py",
   "mimetype": "text/x-python",
   "name": "python",
   "nbconvert_exporter": "python",
   "pygments_lexer": "ipython3",
   "version": "3.7.3"
  }
 },
 "nbformat": 4,
 "nbformat_minor": 2
}
